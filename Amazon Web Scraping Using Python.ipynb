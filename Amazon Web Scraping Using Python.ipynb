{
 "cells": [
  {
   "cell_type": "markdown",
   "id": "209028f4",
   "metadata": {},
   "source": [
    "# Amazon Web Scraping Using Python"
   ]
  },
  {
   "cell_type": "code",
   "execution_count": null,
   "id": "b2591c52",
   "metadata": {},
   "outputs": [],
   "source": []
  },
  {
   "cell_type": "code",
   "execution_count": 5,
   "id": "f78065ae",
   "metadata": {},
   "outputs": [],
   "source": [
    "from bs4 import BeautifulSoup\n",
    "import requests\n",
    "import time\n",
    "import datetime\n",
    "\n",
    "import smtplib"
   ]
  },
  {
   "cell_type": "code",
   "execution_count": 2,
   "id": "1e8c55ee",
   "metadata": {},
   "outputs": [
    {
     "name": "stdout",
     "output_type": "stream",
     "text": [
      "\n",
      "            OBSBOT Tiny PTZ Webcam, AI Backed Frame & Gesture Control, Full HD 1080p Webcam with Dual Omnidirectional Mics, 90 Degree Wide Angle, Low Light Correction, Works with Zoom, Skype Black\n",
      "           \n",
      "\n",
      "                          153\n",
      "                          \n",
      "                           .\n",
      "                          \n",
      "\n"
     ]
    }
   ],
   "source": [
    "# Connect to Website and pull in data\n",
    "\n",
    "URL = 'https://www.amazon.de/-/en/OBSBOT-Gesture-Control-Omnidirectional-Correction/dp/B096K5R3KZ/ref=sr_1_2?pf_rd_i=26191756031&pf_rd_m=A3JWKAKR8XB7XF&pf_rd_p=d2c5e60a-59f3-4913-8fb1-c845e02e2cef&pf_rd_r=YSNNEFV62FTZ5KV0Q7NJ&pf_rd_s=merchandised-search-5&pf_rd_t=101&qid=1678481736&s=boost&sr=1-2&srs=26191762031'\n",
    "\n",
    "headers = {\"User-Agent\": \"Mozilla/5.0 (Windows NT 10.0; Win64; x64) AppleWebKit/537.36 (KHTML, like Gecko) Chrome/110.0.0.0 Safari/537.36\", \"Accept-Encoding\":\"gzip, deflate\", \"Accept\":\"text/html,application/xhtml+xml,application/xml;q=0.9,*/*;q=0.8\", \"DNT\":\"1\",\"Connection\":\"close\", \"Upgrade-Insecure-Requests\":\"1\"}\n",
    "\n",
    "page = requests.get(URL, headers=headers)\n",
    "\n",
    "soup1 = BeautifulSoup(page.content, 'html.parser')\n",
    "\n",
    "soup2 = BeautifulSoup(soup1.prettify(), 'html.parser')\n",
    "\n",
    "#print(soup1)\n",
    "#print(soup2)\n",
    "\n",
    "title = soup2.find(id='productTitle').get_text()\n",
    "\n",
    "price = soup2.find(name='span', class_='a-price-whole').get_text()\n",
    "\n",
    "print(title)\n",
    "print(price)"
   ]
  },
  {
   "cell_type": "code",
   "execution_count": 3,
   "id": "b55430f6",
   "metadata": {},
   "outputs": [
    {
     "name": "stdout",
     "output_type": "stream",
     "text": [
      "OBSBOT Tiny PTZ Webcam, AI Backed Frame & Gesture Control, Full HD 1080p Webcam with Dual Omnidirectional Mics, 90 Degree Wide Angle, Low Light Correction, Works with Zoom, Skype Black\n",
      "153\n",
      "                          \n",
      "                           \n"
     ]
    }
   ],
   "source": [
    "# Clean up the data\n",
    "\n",
    "price = price.strip()[:-1]\n",
    "title = title.strip()\n",
    "\n",
    "print(title)\n",
    "print(price)"
   ]
  },
  {
   "cell_type": "code",
   "execution_count": 4,
   "id": "f1eef265",
   "metadata": {},
   "outputs": [
    {
     "name": "stdout",
     "output_type": "stream",
     "text": [
      "2023-03-10\n"
     ]
    }
   ],
   "source": [
    "# Create a Timestamp for the output to track when data was collected\n",
    "\n",
    "import datetime\n",
    "\n",
    "today = datetime.date.today()\n",
    "\n",
    "print(today)"
   ]
  },
  {
   "cell_type": "code",
   "execution_count": 5,
   "id": "7f37ec1a",
   "metadata": {},
   "outputs": [],
   "source": [
    "# Create CSV and write headers and data into the file\n",
    "\n",
    "import csv \n",
    "\n",
    "header = ['Title', 'Price', 'Date']\n",
    "data = [title, price, today]\n",
    "\n",
    "\n",
    "with open('AmazonWebScraperDataset.csv', 'w', newline='', encoding='UTF8') as f:\n",
    "    writer = csv.writer(f)\n",
    "    writer.writerow(header)\n",
    "    writer.writerow(data)"
   ]
  },
  {
   "cell_type": "code",
   "execution_count": 6,
   "id": "7dd7543f",
   "metadata": {},
   "outputs": [
    {
     "name": "stdout",
     "output_type": "stream",
     "text": [
      "                                               Title  Price        Date\n",
      "0  OBSBOT Tiny PTZ Webcam, AI Backed Frame & Gest...    153  2023-03-10\n"
     ]
    }
   ],
   "source": [
    "# Read the CSV file prepared\n",
    "\n",
    "import pandas as pd\n",
    "\n",
    "df = pd.read_csv(r'C:\\Users\\erkam\\OneDrive\\Belgeler\\Learn_Python_Projects\\AmazonWebScraperDataset.csv')\n",
    "\n",
    "print(df)"
   ]
  },
  {
   "cell_type": "code",
   "execution_count": 7,
   "id": "5c10b6cc",
   "metadata": {},
   "outputs": [],
   "source": [
    "# Append data to the csv\n",
    "\n",
    "with open('AmazonWebScraperDataset.csv', 'a+', newline='', encoding='UTF8') as f:\n",
    "    writer = csv.writer(f)\n",
    "    writer.writerow(data)"
   ]
  },
  {
   "cell_type": "code",
   "execution_count": null,
   "id": "f94618f0",
   "metadata": {},
   "outputs": [],
   "source": []
  },
  {
   "cell_type": "code",
   "execution_count": 6,
   "id": "7248e724",
   "metadata": {},
   "outputs": [],
   "source": [
    "#Combine all of the above code into one function\n",
    "\n",
    "def check_price():\n",
    "    URL = 'https://www.amazon.de/-/en/OBSBOT-Gesture-Control-Omnidirectional-Correction/dp/B096K5R3KZ/ref=sr_1_2?pf_rd_i=26191756031&pf_rd_m=A3JWKAKR8XB7XF&pf_rd_p=d2c5e60a-59f3-4913-8fb1-c845e02e2cef&pf_rd_r=YSNNEFV62FTZ5KV0Q7NJ&pf_rd_s=merchandised-search-5&pf_rd_t=101&qid=1678481736&s=boost&sr=1-2&srs=26191762031'\n",
    "\n",
    "    headers = {\"User-Agent\": \"Mozilla/5.0 (Windows NT 10.0; Win64; x64) AppleWebKit/537.36 (KHTML, like Gecko) Chrome/110.0.0.0 Safari/537.36\", \"Accept-Encoding\":\"gzip, deflate\", \"Accept\":\"text/html,application/xhtml+xml,application/xml;q=0.9,*/*;q=0.8\", \"DNT\":\"1\",\"Connection\":\"close\", \"Upgrade-Insecure-Requests\":\"1\"}\n",
    "\n",
    "    page = requests.get(URL, headers=headers)\n",
    "\n",
    "    soup1 = BeautifulSoup(page.content, 'html.parser')\n",
    "\n",
    "    soup2 = BeautifulSoup(soup1.prettify(), 'html.parser')\n",
    "\n",
    "    title = soup2.find(id='productTitle').get_text()\n",
    "\n",
    "    price = soup2.find(name='span', class_='a-price-whole').get_text()\n",
    "\n",
    "    price = price.strip()[:-1]\n",
    "    title = title.strip()\n",
    "\n",
    "    import datetime\n",
    "\n",
    "    today = datetime.date.today()\n",
    "\n",
    "    import csv \n",
    "\n",
    "    header = ['Title', 'Price', 'Date']\n",
    "    data = [title, price, today]\n",
    "\n",
    "    with open('AmazonWebScraperDataset.csv', 'a+', newline='', encoding='UTF8') as f:\n",
    "        writer = csv.writer(f)\n",
    "        writer.writerow(data)"
   ]
  },
  {
   "cell_type": "code",
   "execution_count": 7,
   "id": "452f1d32",
   "metadata": {},
   "outputs": [
    {
     "ename": "KeyboardInterrupt",
     "evalue": "",
     "output_type": "error",
     "traceback": [
      "\u001b[1;31m---------------------------------------------------------------------------\u001b[0m",
      "\u001b[1;31mKeyboardInterrupt\u001b[0m                         Traceback (most recent call last)",
      "\u001b[1;32m~\\AppData\\Local\\Temp\\ipykernel_20920\\251916521.py\u001b[0m in \u001b[0;36m<module>\u001b[1;34m\u001b[0m\n\u001b[0;32m      3\u001b[0m \u001b[1;32mwhile\u001b[0m\u001b[1;33m(\u001b[0m\u001b[1;32mTrue\u001b[0m\u001b[1;33m)\u001b[0m\u001b[1;33m:\u001b[0m\u001b[1;33m\u001b[0m\u001b[1;33m\u001b[0m\u001b[0m\n\u001b[0;32m      4\u001b[0m     \u001b[0mcheck_price\u001b[0m\u001b[1;33m(\u001b[0m\u001b[1;33m)\u001b[0m\u001b[1;33m\u001b[0m\u001b[1;33m\u001b[0m\u001b[0m\n\u001b[1;32m----> 5\u001b[1;33m     \u001b[0mtime\u001b[0m\u001b[1;33m.\u001b[0m\u001b[0msleep\u001b[0m\u001b[1;33m(\u001b[0m\u001b[1;36m60\u001b[0m\u001b[1;33m)\u001b[0m\u001b[1;33m\u001b[0m\u001b[1;33m\u001b[0m\u001b[0m\n\u001b[0m",
      "\u001b[1;31mKeyboardInterrupt\u001b[0m: "
     ]
    }
   ],
   "source": [
    "# Runs check_price after a set time in seconds and inputs data into your CSV\n",
    "\n",
    "while(True):\n",
    "    check_price()\n",
    "    time.sleep(60)"
   ]
  },
  {
   "cell_type": "code",
   "execution_count": 8,
   "id": "2598a816",
   "metadata": {},
   "outputs": [
    {
     "name": "stdout",
     "output_type": "stream",
     "text": [
      "                                               Title  Price        Date\n",
      "0  OBSBOT Tiny PTZ Webcam, AI Backed Frame & Gest...    153   3/10/2023\n",
      "1  OBSBOT Tiny PTZ Webcam, AI Backed Frame & Gest...    153  2023-03-10\n",
      "2  OBSBOT Tiny PTZ Webcam, AI Backed Frame & Gest...    153  2023-03-10\n",
      "3  OBSBOT Tiny PTZ Webcam, AI Backed Frame & Gest...    153  2023-03-10\n",
      "4  OBSBOT Tiny PTZ Webcam, AI Backed Frame & Gest...    153  2023-03-10\n",
      "5  OBSBOT Tiny PTZ Webcam, AI Backed Frame & Gest...    153  2023-03-10\n",
      "6  OBSBOT Tiny PTZ Webcam, AI Backed Frame & Gest...    153  2023-03-10\n",
      "7  OBSBOT Tiny PTZ Webcam, AI Backed Frame & Gest...    153  2023-03-10\n",
      "8  OBSBOT Tiny PTZ Webcam, AI Backed Frame & Gest...    153  2023-03-10\n"
     ]
    }
   ],
   "source": [
    "import pandas as pd\n",
    "\n",
    "df = pd.read_csv(r'C:\\Users\\erkam\\OneDrive\\Belgeler\\Learn_Python_Projects\\AmazonWebScraperDataset.csv')\n",
    "\n",
    "print(df)"
   ]
  },
  {
   "cell_type": "code",
   "execution_count": null,
   "id": "3a559189",
   "metadata": {},
   "outputs": [],
   "source": []
  },
  {
   "cell_type": "code",
   "execution_count": null,
   "id": "b9051173",
   "metadata": {},
   "outputs": [],
   "source": []
  },
  {
   "cell_type": "code",
   "execution_count": null,
   "id": "89ae11bf",
   "metadata": {},
   "outputs": [],
   "source": []
  },
  {
   "cell_type": "code",
   "execution_count": null,
   "id": "c6f20c64",
   "metadata": {},
   "outputs": [],
   "source": []
  },
  {
   "cell_type": "code",
   "execution_count": null,
   "id": "702108cc",
   "metadata": {},
   "outputs": [],
   "source": []
  }
 ],
 "metadata": {
  "kernelspec": {
   "display_name": "Python 3 (ipykernel)",
   "language": "python",
   "name": "python3"
  },
  "language_info": {
   "codemirror_mode": {
    "name": "ipython",
    "version": 3
   },
   "file_extension": ".py",
   "mimetype": "text/x-python",
   "name": "python",
   "nbconvert_exporter": "python",
   "pygments_lexer": "ipython3",
   "version": "3.9.13"
  }
 },
 "nbformat": 4,
 "nbformat_minor": 5
}

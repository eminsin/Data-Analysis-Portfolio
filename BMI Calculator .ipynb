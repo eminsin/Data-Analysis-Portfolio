{
 "cells": [
  {
   "cell_type": "markdown",
   "id": "be2169cf",
   "metadata": {},
   "source": [
    "# BMI Calculator"
   ]
  },
  {
   "cell_type": "code",
   "execution_count": null,
   "id": "9941493c",
   "metadata": {},
   "outputs": [],
   "source": []
  },
  {
   "cell_type": "code",
   "execution_count": 16,
   "id": "4a187cd0",
   "metadata": {},
   "outputs": [
    {
     "name": "stdout",
     "output_type": "stream",
     "text": [
      "Enter your name Erkam\n",
      "Enter your weight in kgs 73\n",
      "Enter your height in meters 1.72\n",
      "Your BMI is  24.675500270416443\n",
      "Erkam, you are normal weight!\n"
     ]
    }
   ],
   "source": [
    "name = input('Enter your name ')\n",
    "\n",
    "weight = float(input('Enter your weight in kgs '))\n",
    "\n",
    "height = float(input('Enter your height in meters '))\n",
    "\n",
    "BMI = (weight) / (height**2)\n",
    "\n",
    "print('Your BMI is ', BMI)\n",
    "\n",
    "if BMI > 0:\n",
    "    if BMI < 18.5:\n",
    "        print(name + ', you are underweight!')\n",
    "    elif BMI <= 24.9:\n",
    "        print(name + ', you are normal weight!')\n",
    "    elif BMI <= 29.9:\n",
    "        print(name + ', you are overweight!')\n",
    "    elif BMI <= 34.9:\n",
    "        print(name + ', you are obese!')\n",
    "    elif BMI <= 39.9:\n",
    "        print(name + ', you are severely obese!')\n",
    "    else:\n",
    "        print(name + ', you are morbidly obese!')\n",
    "else:\n",
    "    'Enter valid input'"
   ]
  },
  {
   "cell_type": "code",
   "execution_count": null,
   "id": "cd0ee736",
   "metadata": {},
   "outputs": [],
   "source": []
  },
  {
   "cell_type": "code",
   "execution_count": null,
   "id": "04560893",
   "metadata": {},
   "outputs": [],
   "source": []
  },
  {
   "cell_type": "code",
   "execution_count": null,
   "id": "a159c7e8",
   "metadata": {},
   "outputs": [],
   "source": []
  },
  {
   "cell_type": "code",
   "execution_count": null,
   "id": "5994f134",
   "metadata": {},
   "outputs": [],
   "source": []
  },
  {
   "cell_type": "code",
   "execution_count": null,
   "id": "11a58be9",
   "metadata": {},
   "outputs": [],
   "source": []
  },
  {
   "cell_type": "code",
   "execution_count": null,
   "id": "40285906",
   "metadata": {},
   "outputs": [],
   "source": []
  },
  {
   "cell_type": "code",
   "execution_count": null,
   "id": "aa2acd77",
   "metadata": {},
   "outputs": [],
   "source": []
  },
  {
   "cell_type": "code",
   "execution_count": null,
   "id": "a557f327",
   "metadata": {},
   "outputs": [],
   "source": []
  },
  {
   "cell_type": "code",
   "execution_count": null,
   "id": "a583368c",
   "metadata": {},
   "outputs": [],
   "source": []
  },
  {
   "cell_type": "code",
   "execution_count": null,
   "id": "fc298cce",
   "metadata": {},
   "outputs": [],
   "source": []
  },
  {
   "cell_type": "code",
   "execution_count": null,
   "id": "03f62655",
   "metadata": {},
   "outputs": [],
   "source": []
  }
 ],
 "metadata": {
  "kernelspec": {
   "display_name": "Python 3 (ipykernel)",
   "language": "python",
   "name": "python3"
  },
  "language_info": {
   "codemirror_mode": {
    "name": "ipython",
    "version": 3
   },
   "file_extension": ".py",
   "mimetype": "text/x-python",
   "name": "python",
   "nbconvert_exporter": "python",
   "pygments_lexer": "ipython3",
   "version": "3.9.13"
  }
 },
 "nbformat": 4,
 "nbformat_minor": 5
}
